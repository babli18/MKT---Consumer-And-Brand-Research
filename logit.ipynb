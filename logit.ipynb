{
 "cells": [
  {
   "cell_type": "code",
   "execution_count": 1,
   "metadata": {},
   "outputs": [],
   "source": [
    "import pandas as pd"
   ]
  },
  {
   "cell_type": "code",
   "execution_count": 2,
   "metadata": {},
   "outputs": [],
   "source": [
    "# import the admissions dataset\n",
    "adm = pd.read_csv(\"dta_admissions.csv\")"
   ]
  },
  {
   "cell_type": "code",
   "execution_count": 3,
   "metadata": {},
   "outputs": [
    {
     "data": {
      "text/html": [
       "<div>\n",
       "<style scoped>\n",
       "    .dataframe tbody tr th:only-of-type {\n",
       "        vertical-align: middle;\n",
       "    }\n",
       "\n",
       "    .dataframe tbody tr th {\n",
       "        vertical-align: top;\n",
       "    }\n",
       "\n",
       "    .dataframe thead th {\n",
       "        text-align: right;\n",
       "    }\n",
       "</style>\n",
       "<table border=\"1\" class=\"dataframe\">\n",
       "  <thead>\n",
       "    <tr style=\"text-align: right;\">\n",
       "      <th></th>\n",
       "      <th>admit</th>\n",
       "      <th>gre</th>\n",
       "      <th>gpa</th>\n",
       "      <th>rank</th>\n",
       "    </tr>\n",
       "  </thead>\n",
       "  <tbody>\n",
       "    <tr>\n",
       "      <th>0</th>\n",
       "      <td>0</td>\n",
       "      <td>380</td>\n",
       "      <td>3.61</td>\n",
       "      <td>3</td>\n",
       "    </tr>\n",
       "    <tr>\n",
       "      <th>1</th>\n",
       "      <td>1</td>\n",
       "      <td>660</td>\n",
       "      <td>3.67</td>\n",
       "      <td>3</td>\n",
       "    </tr>\n",
       "    <tr>\n",
       "      <th>2</th>\n",
       "      <td>1</td>\n",
       "      <td>800</td>\n",
       "      <td>4.00</td>\n",
       "      <td>1</td>\n",
       "    </tr>\n",
       "    <tr>\n",
       "      <th>3</th>\n",
       "      <td>1</td>\n",
       "      <td>640</td>\n",
       "      <td>3.19</td>\n",
       "      <td>4</td>\n",
       "    </tr>\n",
       "    <tr>\n",
       "      <th>4</th>\n",
       "      <td>0</td>\n",
       "      <td>520</td>\n",
       "      <td>2.93</td>\n",
       "      <td>4</td>\n",
       "    </tr>\n",
       "    <tr>\n",
       "      <th>5</th>\n",
       "      <td>1</td>\n",
       "      <td>760</td>\n",
       "      <td>3.00</td>\n",
       "      <td>2</td>\n",
       "    </tr>\n",
       "    <tr>\n",
       "      <th>6</th>\n",
       "      <td>1</td>\n",
       "      <td>560</td>\n",
       "      <td>2.98</td>\n",
       "      <td>1</td>\n",
       "    </tr>\n",
       "    <tr>\n",
       "      <th>7</th>\n",
       "      <td>0</td>\n",
       "      <td>400</td>\n",
       "      <td>3.08</td>\n",
       "      <td>2</td>\n",
       "    </tr>\n",
       "    <tr>\n",
       "      <th>8</th>\n",
       "      <td>1</td>\n",
       "      <td>540</td>\n",
       "      <td>3.39</td>\n",
       "      <td>3</td>\n",
       "    </tr>\n",
       "    <tr>\n",
       "      <th>9</th>\n",
       "      <td>0</td>\n",
       "      <td>700</td>\n",
       "      <td>3.92</td>\n",
       "      <td>2</td>\n",
       "    </tr>\n",
       "  </tbody>\n",
       "</table>\n",
       "</div>"
      ],
      "text/plain": [
       "   admit  gre   gpa  rank\n",
       "0      0  380  3.61     3\n",
       "1      1  660  3.67     3\n",
       "2      1  800  4.00     1\n",
       "3      1  640  3.19     4\n",
       "4      0  520  2.93     4\n",
       "5      1  760  3.00     2\n",
       "6      1  560  2.98     1\n",
       "7      0  400  3.08     2\n",
       "8      1  540  3.39     3\n",
       "9      0  700  3.92     2"
      ]
     },
     "execution_count": 3,
     "metadata": {},
     "output_type": "execute_result"
    }
   ],
   "source": [
    "# check for the first 10 records\n",
    "adm.head(10)"
   ]
  },
  {
   "cell_type": "code",
   "execution_count": 4,
   "metadata": {},
   "outputs": [
    {
     "data": {
      "text/plain": [
       "admit      int64\n",
       "gre        int64\n",
       "gpa      float64\n",
       "rank       int64\n",
       "dtype: object"
      ]
     },
     "execution_count": 4,
     "metadata": {},
     "output_type": "execute_result"
    }
   ],
   "source": [
    "# check the datatype of the features of dataset\n",
    "adm.dtypes"
   ]
  },
  {
   "cell_type": "markdown",
   "metadata": {},
   "source": [
    "## Binary Logit - Stats Model"
   ]
  },
  {
   "cell_type": "code",
   "execution_count": 5,
   "metadata": {},
   "outputs": [],
   "source": [
    "# uncomment the below code to install the package\n",
    "#pip install statsmodels"
   ]
  },
  {
   "cell_type": "code",
   "execution_count": 6,
   "metadata": {},
   "outputs": [],
   "source": [
    "# importing the stats model\n",
    "\n",
    "import statsmodels.formula.api as smf"
   ]
  },
  {
   "cell_type": "markdown",
   "metadata": {},
   "source": [
    "## Rank as Numerical"
   ]
  },
  {
   "cell_type": "code",
   "execution_count": 7,
   "metadata": {},
   "outputs": [
    {
     "name": "stdout",
     "output_type": "stream",
     "text": [
      "Optimization terminated successfully.\n",
      "         Current function value: 0.574302\n",
      "         Iterations 6\n",
      "                           Logit Regression Results                           \n",
      "==============================================================================\n",
      "Dep. Variable:                  admit   No. Observations:                  400\n",
      "Model:                          Logit   Df Residuals:                      396\n",
      "Method:                           MLE   Df Model:                            3\n",
      "Date:                Fri, 07 Jun 2024   Pseudo R-squ.:                 0.08107\n",
      "Time:                        14:03:11   Log-Likelihood:                -229.72\n",
      "converged:                       True   LL-Null:                       -249.99\n",
      "Covariance Type:            nonrobust   LLR p-value:                 8.207e-09\n",
      "==============================================================================\n",
      "                 coef    std err          z      P>|z|      [0.025      0.975]\n",
      "------------------------------------------------------------------------------\n",
      "Intercept     -3.4495      1.133     -3.045      0.002      -5.670      -1.229\n",
      "gre            0.0023      0.001      2.101      0.036       0.000       0.004\n",
      "gpa            0.7770      0.327      2.373      0.018       0.135       1.419\n",
      "rank          -0.5600      0.127     -4.405      0.000      -0.809      -0.311\n",
      "==============================================================================\n"
     ]
    }
   ],
   "source": [
    "# logit model for rank as numerical (continuous)\n",
    "\n",
    "num_model = smf.logit('admit ~ gre + gpa + rank', data = adm).fit()\n",
    "print(num_model.summary()) "
   ]
  },
  {
   "cell_type": "markdown",
   "metadata": {},
   "source": [
    "**Statistical Significance:**\n",
    "\n",
    "*** : p < 0.001\n",
    "\n",
    "** : 0.001 <= p < 0.01\n",
    "\n",
    "*: 0.01 <= p < 0.05\n",
    "\n",
    ". : 0.05 <= p < 0.1"
   ]
  },
  {
   "cell_type": "markdown",
   "metadata": {},
   "source": [
    "## Rank As Categorical"
   ]
  },
  {
   "cell_type": "code",
   "execution_count": 9,
   "metadata": {},
   "outputs": [
    {
     "name": "stdout",
     "output_type": "stream",
     "text": [
      "admit               int64\n",
      "gre                 int64\n",
      "gpa               float64\n",
      "rank                int64\n",
      "rank_category    category\n",
      "dtype: object\n"
     ]
    }
   ],
   "source": [
    "# rank as categorical value\n",
    "\n",
    "# converting the rank into category datatype\n",
    "adm['rank_category'] = adm['rank'].astype('category')\n",
    "\n",
    "print(adm.dtypes)"
   ]
  },
  {
   "cell_type": "code",
   "execution_count": 10,
   "metadata": {},
   "outputs": [
    {
     "name": "stdout",
     "output_type": "stream",
     "text": [
      "Optimization terminated successfully.\n",
      "         Current function value: 0.573147\n",
      "         Iterations 6\n",
      "                           Logit Regression Results                           \n",
      "==============================================================================\n",
      "Dep. Variable:                  admit   No. Observations:                  400\n",
      "Model:                          Logit   Df Residuals:                      394\n",
      "Method:                           MLE   Df Model:                            5\n",
      "Date:                Fri, 07 Jun 2024   Pseudo R-squ.:                 0.08292\n",
      "Time:                        14:05:27   Log-Likelihood:                -229.26\n",
      "converged:                       True   LL-Null:                       -249.99\n",
      "Covariance Type:            nonrobust   LLR p-value:                 7.578e-08\n",
      "======================================================================================\n",
      "                         coef    std err          z      P>|z|      [0.025      0.975]\n",
      "--------------------------------------------------------------------------------------\n",
      "Intercept             -3.9900      1.140     -3.500      0.000      -6.224      -1.756\n",
      "rank_category[T.2]    -0.6754      0.316     -2.134      0.033      -1.296      -0.055\n",
      "rank_category[T.3]    -1.3402      0.345     -3.881      0.000      -2.017      -0.663\n",
      "rank_category[T.4]    -1.5515      0.418     -3.713      0.000      -2.370      -0.733\n",
      "gre                    0.0023      0.001      2.070      0.038       0.000       0.004\n",
      "gpa                    0.8040      0.332      2.423      0.015       0.154       1.454\n",
      "======================================================================================\n"
     ]
    }
   ],
   "source": [
    "# Logit model for rank as category\n",
    "cat_model = smf.logit('admit ~ gre + gpa + rank_category',data=adm).fit()\n",
    "print(cat_model.summary())"
   ]
  },
  {
   "cell_type": "markdown",
   "metadata": {},
   "source": [
    "**Statistical Significance:**\n",
    "\n",
    "*** : p < 0.001\n",
    "\n",
    "** : 0.001 <= p < 0.01\n",
    "\n",
    "*: 0.01 <= p < 0.05\n",
    "\n",
    ". : 0.05 <= p < 0.1"
   ]
  },
  {
   "cell_type": "markdown",
   "metadata": {},
   "source": [
    "## Multinominal Logit"
   ]
  },
  {
   "cell_type": "code",
   "execution_count": 32,
   "metadata": {},
   "outputs": [],
   "source": [
    "travel = pd.read_csv(\"TravelMode.csv\")"
   ]
  },
  {
   "cell_type": "code",
   "execution_count": 33,
   "metadata": {},
   "outputs": [
    {
     "data": {
      "text/html": [
       "<div>\n",
       "<style scoped>\n",
       "    .dataframe tbody tr th:only-of-type {\n",
       "        vertical-align: middle;\n",
       "    }\n",
       "\n",
       "    .dataframe tbody tr th {\n",
       "        vertical-align: top;\n",
       "    }\n",
       "\n",
       "    .dataframe thead th {\n",
       "        text-align: right;\n",
       "    }\n",
       "</style>\n",
       "<table border=\"1\" class=\"dataframe\">\n",
       "  <thead>\n",
       "    <tr style=\"text-align: right;\">\n",
       "      <th></th>\n",
       "      <th>Unnamed: 0</th>\n",
       "      <th>individual</th>\n",
       "      <th>mode</th>\n",
       "      <th>choice</th>\n",
       "      <th>wait</th>\n",
       "      <th>vcost</th>\n",
       "      <th>travel</th>\n",
       "      <th>gcost</th>\n",
       "      <th>income</th>\n",
       "      <th>size</th>\n",
       "    </tr>\n",
       "  </thead>\n",
       "  <tbody>\n",
       "    <tr>\n",
       "      <th>0</th>\n",
       "      <td>1</td>\n",
       "      <td>1</td>\n",
       "      <td>air</td>\n",
       "      <td>no</td>\n",
       "      <td>69</td>\n",
       "      <td>59</td>\n",
       "      <td>100</td>\n",
       "      <td>70</td>\n",
       "      <td>35</td>\n",
       "      <td>1</td>\n",
       "    </tr>\n",
       "    <tr>\n",
       "      <th>1</th>\n",
       "      <td>2</td>\n",
       "      <td>1</td>\n",
       "      <td>train</td>\n",
       "      <td>no</td>\n",
       "      <td>34</td>\n",
       "      <td>31</td>\n",
       "      <td>372</td>\n",
       "      <td>71</td>\n",
       "      <td>35</td>\n",
       "      <td>1</td>\n",
       "    </tr>\n",
       "    <tr>\n",
       "      <th>2</th>\n",
       "      <td>3</td>\n",
       "      <td>1</td>\n",
       "      <td>bus</td>\n",
       "      <td>no</td>\n",
       "      <td>35</td>\n",
       "      <td>25</td>\n",
       "      <td>417</td>\n",
       "      <td>70</td>\n",
       "      <td>35</td>\n",
       "      <td>1</td>\n",
       "    </tr>\n",
       "    <tr>\n",
       "      <th>3</th>\n",
       "      <td>4</td>\n",
       "      <td>1</td>\n",
       "      <td>car</td>\n",
       "      <td>yes</td>\n",
       "      <td>0</td>\n",
       "      <td>10</td>\n",
       "      <td>180</td>\n",
       "      <td>30</td>\n",
       "      <td>35</td>\n",
       "      <td>1</td>\n",
       "    </tr>\n",
       "    <tr>\n",
       "      <th>4</th>\n",
       "      <td>5</td>\n",
       "      <td>2</td>\n",
       "      <td>air</td>\n",
       "      <td>no</td>\n",
       "      <td>64</td>\n",
       "      <td>58</td>\n",
       "      <td>68</td>\n",
       "      <td>68</td>\n",
       "      <td>30</td>\n",
       "      <td>2</td>\n",
       "    </tr>\n",
       "    <tr>\n",
       "      <th>5</th>\n",
       "      <td>6</td>\n",
       "      <td>2</td>\n",
       "      <td>train</td>\n",
       "      <td>no</td>\n",
       "      <td>44</td>\n",
       "      <td>31</td>\n",
       "      <td>354</td>\n",
       "      <td>84</td>\n",
       "      <td>30</td>\n",
       "      <td>2</td>\n",
       "    </tr>\n",
       "    <tr>\n",
       "      <th>6</th>\n",
       "      <td>7</td>\n",
       "      <td>2</td>\n",
       "      <td>bus</td>\n",
       "      <td>no</td>\n",
       "      <td>53</td>\n",
       "      <td>25</td>\n",
       "      <td>399</td>\n",
       "      <td>85</td>\n",
       "      <td>30</td>\n",
       "      <td>2</td>\n",
       "    </tr>\n",
       "    <tr>\n",
       "      <th>7</th>\n",
       "      <td>8</td>\n",
       "      <td>2</td>\n",
       "      <td>car</td>\n",
       "      <td>yes</td>\n",
       "      <td>0</td>\n",
       "      <td>11</td>\n",
       "      <td>255</td>\n",
       "      <td>50</td>\n",
       "      <td>30</td>\n",
       "      <td>2</td>\n",
       "    </tr>\n",
       "    <tr>\n",
       "      <th>8</th>\n",
       "      <td>9</td>\n",
       "      <td>3</td>\n",
       "      <td>air</td>\n",
       "      <td>no</td>\n",
       "      <td>69</td>\n",
       "      <td>115</td>\n",
       "      <td>125</td>\n",
       "      <td>129</td>\n",
       "      <td>40</td>\n",
       "      <td>1</td>\n",
       "    </tr>\n",
       "    <tr>\n",
       "      <th>9</th>\n",
       "      <td>10</td>\n",
       "      <td>3</td>\n",
       "      <td>train</td>\n",
       "      <td>no</td>\n",
       "      <td>34</td>\n",
       "      <td>98</td>\n",
       "      <td>892</td>\n",
       "      <td>195</td>\n",
       "      <td>40</td>\n",
       "      <td>1</td>\n",
       "    </tr>\n",
       "  </tbody>\n",
       "</table>\n",
       "</div>"
      ],
      "text/plain": [
       "   Unnamed: 0  individual   mode choice  wait  vcost  travel  gcost  income  \\\n",
       "0           1           1    air     no    69     59     100     70      35   \n",
       "1           2           1  train     no    34     31     372     71      35   \n",
       "2           3           1    bus     no    35     25     417     70      35   \n",
       "3           4           1    car    yes     0     10     180     30      35   \n",
       "4           5           2    air     no    64     58      68     68      30   \n",
       "5           6           2  train     no    44     31     354     84      30   \n",
       "6           7           2    bus     no    53     25     399     85      30   \n",
       "7           8           2    car    yes     0     11     255     50      30   \n",
       "8           9           3    air     no    69    115     125    129      40   \n",
       "9          10           3  train     no    34     98     892    195      40   \n",
       "\n",
       "   size  \n",
       "0     1  \n",
       "1     1  \n",
       "2     1  \n",
       "3     1  \n",
       "4     2  \n",
       "5     2  \n",
       "6     2  \n",
       "7     2  \n",
       "8     1  \n",
       "9     1  "
      ]
     },
     "execution_count": 33,
     "metadata": {},
     "output_type": "execute_result"
    }
   ],
   "source": [
    "travel.head(10)"
   ]
  },
  {
   "cell_type": "code",
   "execution_count": 40,
   "metadata": {},
   "outputs": [
    {
     "name": "stdout",
     "output_type": "stream",
     "text": [
      "['no', 'yes']\n",
      "Categories (2, object): ['no', 'yes']\n",
      "   Unnamed: 0  individual choice  wait  vcost  travel  gcost  income  size  \\\n",
      "0           1           1     no    69     59     100     70      35     1   \n",
      "1           2           1     no    34     31     372     71      35     1   \n",
      "2           3           1     no    35     25     417     70      35     1   \n",
      "3           4           1    yes     0     10     180     30      35     1   \n",
      "4           5           2     no    64     58      68     68      30     2   \n",
      "\n",
      "   choice_code  mode_bus  mode_car  mode_train  \n",
      "0            0     False     False       False  \n",
      "1            0     False     False        True  \n",
      "2            0      True     False       False  \n",
      "3            1     False      True       False  \n",
      "4            0     False     False       False  \n"
     ]
    }
   ],
   "source": [
    "travel['choice'] = travel['choice'].astype('category')\n",
    "travel['choice_code'] = travel['choice'].cat.codes  # Convert categories to codes for statsmodels\n",
    "\n",
    "# Check the unique values in 'choice'\n",
    "print(travel['choice'].unique())\n",
    "\n",
    "# Create dummy variables for 'mode' column\n",
    "travel_dummies = pd.get_dummies(travel, columns=['mode'], drop_first=True)\n",
    "print(travel_dummies.head())  # Display the first few rows of the modified dataset"
   ]
  },
  {
   "cell_type": "code",
   "execution_count": 42,
   "metadata": {},
   "outputs": [
    {
     "name": "stdout",
     "output_type": "stream",
     "text": [
      "Optimization terminated successfully.\n",
      "         Current function value: 0.453272\n",
      "         Iterations 7\n",
      "                          MNLogit Regression Results                          \n",
      "==============================================================================\n",
      "Dep. Variable:            choice_code   No. Observations:                  840\n",
      "Model:                        MNLogit   Df Residuals:                      834\n",
      "Method:                           MLE   Df Model:                            5\n",
      "Date:                Fri, 07 Jun 2024   Pseudo R-squ.:                  0.1939\n",
      "Time:                        19:32:44   Log-Likelihood:                -380.75\n",
      "converged:                       True   LL-Null:                       -472.36\n",
      "Covariance Type:            nonrobust   LLR p-value:                 1.095e-37\n",
      "======================================================================================\n",
      "     choice_code=1       coef    std err          z      P>|z|      [0.025      0.975]\n",
      "--------------------------------------------------------------------------------------\n",
      "Intercept              5.9078      0.790      7.478      0.000       4.359       7.456\n",
      "mode_bus[T.True]      -3.5628      0.478     -7.456      0.000      -4.499      -2.626\n",
      "mode_car[T.True]      -6.7417      0.768     -8.778      0.000      -8.247      -5.236\n",
      "mode_train[T.True]    -2.8338      0.423     -6.696      0.000      -3.663      -2.004\n",
      "wait                  -0.1077      0.011     -9.890      0.000      -0.129      -0.086\n",
      "vcost                 -0.0051      0.004     -1.217      0.223      -0.013       0.003\n",
      "======================================================================================\n"
     ]
    }
   ],
   "source": [
    "formula = 'choice_code ~ wait + vcost + mode_bus + mode_car + mode_train'\n",
    "\n",
    "# Fit the model\n",
    "model = smf.mnlogit(formula, data=travel_dummies).fit()\n",
    "\n",
    "# Display the summary\n",
    "print(model.summary())"
   ]
  },
  {
   "cell_type": "code",
   "execution_count": 66,
   "metadata": {},
   "outputs": [
    {
     "name": "stdout",
     "output_type": "stream",
     "text": [
      "[[0.86117711 0.13882289]\n",
      " [0.67836355 0.32163645]\n",
      " [0.82525354 0.17474646]\n",
      " ...\n",
      " [0.87442567 0.12557433]\n",
      " [0.97158324 0.02841676]\n",
      " [0.70994218 0.29005782]]\n"
     ]
    }
   ],
   "source": [
    "predicted_probabilities = model.predict()\n",
    "\n",
    "# Verify the shape of the predicted probabilities\n",
    "print(predicted_probabilities)"
   ]
  }
 ],
 "metadata": {
  "kernelspec": {
   "display_name": "base",
   "language": "python",
   "name": "python3"
  },
  "language_info": {
   "codemirror_mode": {
    "name": "ipython",
    "version": 3
   },
   "file_extension": ".py",
   "mimetype": "text/x-python",
   "name": "python",
   "nbconvert_exporter": "python",
   "pygments_lexer": "ipython3",
   "version": "3.11.5"
  }
 },
 "nbformat": 4,
 "nbformat_minor": 2
}
